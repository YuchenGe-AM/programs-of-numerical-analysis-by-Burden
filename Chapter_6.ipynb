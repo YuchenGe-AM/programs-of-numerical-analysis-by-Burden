{
 "cells": [
  {
   "cell_type": "markdown",
   "id": "alone-klein",
   "metadata": {},
   "source": [
    "# Chapter 6: Direct Methods for Solving Linear Systems"
   ]
  },
  {
   "cell_type": "markdown",
   "id": "impressed-happiness",
   "metadata": {},
   "source": [
    "$$\\text{葛雨辰 201800150053}$$"
   ]
  },
  {
   "cell_type": "markdown",
   "id": "heated-newman",
   "metadata": {},
   "source": [
    "## 1 Introduction\n",
    "\n",
    "In the homework, I use Jupyter notebook ( Python Kernel ) to run the codes and show the results. "
   ]
  },
  {
   "cell_type": "markdown",
   "id": "clear-bones",
   "metadata": {},
   "source": [
    "## 2 Gaussian Elimination Method (6.1/4c,4d)"
   ]
  },
  {
   "cell_type": "markdown",
   "id": "established-destruction",
   "metadata": {},
   "source": [
    "We will apply Gaussian Elimination Method with backward substitution for problems 6.1/4c,4d. We run the program as follows."
   ]
  },
  {
   "cell_type": "code",
   "execution_count": 156,
   "id": "theoretical-campbell",
   "metadata": {},
   "outputs": [
    {
     "data": {
      "text/plain": [
       "(array([[-0.03174603,  0.5952381 , -2.38095238,  2.77777778]]),\n",
       " array([[ 1.91812865,  1.96491228, -0.98830409, -3.19298246, -1.13450292]]))"
      ]
     },
     "execution_count": 156,
     "metadata": {},
     "output_type": "execute_result"
    }
   ],
   "source": [
    "import numpy as np\n",
    "C_old=np.array([[1,1/2,1/3,1/4,1/6],[1/2,1/3,1/4,1/5,1/7],[1/3,1/4,1/5,1/6,1/8],[1/4,1/5,1/6,1/7,1/9]])\n",
    "D_old=np.array([[2,1,-1,1,-3,7],[1,0,2,-1,1,2],[0,-2,-1,1,-1,-5],[3,1,-4,0,5,6],[1,-1,-1,-1,1,3]])\n",
    "C=np.c_[np.random.randn(4,1),C_old]\n",
    "C=np.r_[np.random.randn(1,6),C]\n",
    "D=np.c_[np.random.randn(5,1),D_old]\n",
    "D=np.r_[np.random.randn(1,7),D]\n",
    "\n",
    "def Gaussian(n,A):\n",
    "    x=np.random.randn(n+1,1)\n",
    "    for i in range(1,n):\n",
    "        # find the smallest p\n",
    "        temp=list(A[i:n+1,i])\n",
    "        if temp==0:\n",
    "            print('no unique solution exists')\n",
    "            return\n",
    "        else:\n",
    "            temporary=min(filter(lambda x: x!=0, temp))\n",
    "            p=temp.index(temporary)+i\n",
    "            \n",
    "        if p!=i:\n",
    "            A[[p, i],:] = A[[i, p],:]\n",
    "        for j in range(i+1,n+1):\n",
    "            h=A[j,i]/A[i,i]\n",
    "            tempal=A[j,:]-h*A[i,:]\n",
    "            A[j,:]=tempal\n",
    "    if A[n,n]==0:\n",
    "        print('no unique solution exists')\n",
    "        return\n",
    "    x[n]=A[n,n+1]/A[n,n]\n",
    "    for i in range(1,n):\n",
    "        temp=0\n",
    "        for j in range(n-i+1,n+1):\n",
    "            temp=temp+A[n-i,j]*x[j]\n",
    "        x[n-i]=(A[n-i,n+1]-temp)/A[n-i,n-i]\n",
    "    return (x[1:n+1]).T\n",
    "        \n",
    "Gaussian(4,C), Gaussian(5,D)"
   ]
  },
  {
   "cell_type": "markdown",
   "id": "certified-teddy",
   "metadata": {},
   "source": [
    "Therefore, we solve the problem 6.1/4c and show the results in the table below."
   ]
  },
  {
   "cell_type": "markdown",
   "id": "authorized-welsh",
   "metadata": {},
   "source": [
    "| Problem |  6.1/4c |\n",
    "|  ----  | ----  | \n",
    "| $x_1$ | -0.03174603 |\n",
    "| $x_2$  | 0.5952381 |\n",
    "| $x_3$  |  -2.38095238 |\n",
    "| $x_4$  | 2.77777778 |\n"
   ]
  },
  {
   "cell_type": "markdown",
   "id": "supposed-technical",
   "metadata": {},
   "source": [
    "Moreover, we also show the results of problem 6.1/4c in the table below."
   ]
  },
  {
   "cell_type": "markdown",
   "id": "southeast-people",
   "metadata": {},
   "source": [
    "| Problem | 6.1/4d |\n",
    "|  ----  | ----  |  \n",
    "| $x_1$ |1.91812865 | \n",
    "| $x_2$  | 1.96491228 | \n",
    "| $x_3$  |  -0.98830409 |\n",
    "| $x_4$  | -3.19298246 |\n",
    "| $x_5$  | -1.13450292 |"
   ]
  },
  {
   "cell_type": "markdown",
   "id": "pediatric-fireplace",
   "metadata": {},
   "source": [
    "We see that the Gaussian Elimination Method with backward substitution outputs the correct results for problems 6.1/4c,4d by checking as below which is the same as the right-hand sides of the linear systems."
   ]
  },
  {
   "cell_type": "code",
   "execution_count": 157,
   "id": "respiratory-projector",
   "metadata": {},
   "outputs": [
    {
     "data": {
      "text/plain": [
       "(array([[0.16666667],\n",
       "        [0.14285714],\n",
       "        [0.125     ],\n",
       "        [0.11111111]]),\n",
       " array([[ 7.],\n",
       "        [ 2.],\n",
       "        [-5.],\n",
       "        [ 6.],\n",
       "        [ 3.]]))"
      ]
     },
     "execution_count": 157,
     "metadata": {},
     "output_type": "execute_result"
    }
   ],
   "source": [
    "np.dot(C_old[:,0:4], Gaussian(4,C).T), np.dot(D_old[:,0:5], Gaussian(5,D).T) #check"
   ]
  },
  {
   "cell_type": "markdown",
   "id": "unable-confidentiality",
   "metadata": {},
   "source": [
    "## 3 Gaussian Partial Pivoting Method (6.2/5e,6,8,10)"
   ]
  },
  {
   "cell_type": "markdown",
   "id": "refined-characteristic",
   "metadata": {},
   "source": [
    "Since Python can not do the operation of rounding, we are not in a position to do 6.2/6. \n",
    "\n",
    "But We will apply Gaussian Partial Pivoting Method ( for problem 6.2/8 ) and Gaussian Scaled Partial Pivoting Method ( for problem 6.2/10 ). And we apply Maple for problem 6.2/5e. We run the program as follows."
   ]
  },
  {
   "cell_type": "code",
   "execution_count": 159,
   "id": "confidential-highland",
   "metadata": {},
   "outputs": [
    {
     "name": "stdout",
     "output_type": "stream",
     "text": [
      "Result of GaussianPartialPivoting method (6.2/8) is [ 0.1768253   0.01269269 -0.02065405 -1.1826087 ]\n",
      "Result of GaussianScaledPartialPivoting method (6.2/10) is [ 0.1768253   0.01269269 -0.02065405 -1.1826087 ]\n"
     ]
    },
    {
     "data": {
      "text/plain": [
       "array([ 0.1768253 ,  0.01269269, -0.02065405, -1.1826087 ])"
      ]
     },
     "execution_count": 159,
     "metadata": {},
     "output_type": "execute_result"
    }
   ],
   "source": [
    "import numpy as np\n",
    "import scipy\n",
    "E_old=np.array([[1.19,2.11,-100,1,1.12],[14.2,-0.122,12.2,-1,3.44],[0,100,-99.9,1,2.15],[15.3,0.11,-13.1,-1,4.16]])\n",
    "E=np.c_[np.random.randn(4,1),E_old]\n",
    "E=np.r_[np.random.randn(1,6),E]\n",
    "\n",
    "np.set_printoptions(precision = 8,suppress = True)\n",
    "# Gaussian Elimination with Partial Pivoting\n",
    "def GaussianPartialPivoting(n,A):\n",
    "    NROW=list(range(0,n+1))\n",
    "    x=list(range(0,n+1))\n",
    "    for i in range(1,n+1):\n",
    "        NROW[i]=i\n",
    "    for i in range(1,n):\n",
    "        # actually to realize temp=list(A[NROW(i:n+1),i])\n",
    "        temp=list(range(i,n+1))\n",
    "        for j in range(i,n+1):\n",
    "            temp[j-i]=A[NROW[j],i]  \n",
    "        temp=np.array(temp)\n",
    "        temporary=max(abs(temp))\n",
    "        p=list(abs(temp)).index(temporary)+i\n",
    "        if A[NROW[p],i]==0:\n",
    "            print('no unique solutions exists')\n",
    "            return\n",
    "        if NROW[i]!=NROW[p]:\n",
    "            NCOPY=NROW[i]\n",
    "            NROW[i]=NROW[p]\n",
    "            NROW[p]=NCOPY\n",
    "        for j in range(i+1,n+1):\n",
    "            temporary=A[NROW[j],i]/A[NROW[i],i]\n",
    "            A[NROW[j],:]=A[NROW[j],:]-temporary*A[NROW[i],:]\n",
    "    if A[NROW[n],n]==0:\n",
    "        print('no unique solution exists')\n",
    "        return\n",
    "    x[n]=A[NROW[n],n+1]/A[NROW[n],n]\n",
    "    currlist=list(range(1,n))\n",
    "    currlist.reverse()\n",
    "    for i in currlist:\n",
    "        temp=0\n",
    "        for j in range(i+1,n+1):\n",
    "            temp=temp+A[NROW[i],j]*x[j]\n",
    "        x[i]=(A[NROW[i],n+1]-temp)/A[NROW[i],i]\n",
    "    print('Result of GaussianPartialPivoting method (6.2/8) is',(np.array(x[1:n+1])).T)\n",
    "    return (np.array(x[1:n+1])).T\n",
    "\n",
    "# Gaussian Elimination with Scaled Partial Pivoting\n",
    "def GaussianScaledPartialPivoting(n,A):\n",
    "    NROW=list(range(0,n+1))\n",
    "    x=list(range(0,n+1))\n",
    "    s=list(range(0,n+1))\n",
    "    for i in range(1,n+1):\n",
    "        s[i]=max(abs(A[i,:]))\n",
    "    if s==0:\n",
    "        print('no unique solutions exists')\n",
    "        return\n",
    "    for i in range(1,n+1):\n",
    "        NROW[i]=i\n",
    "    for i in range(1,n):\n",
    "        # actually to realize temp=list(A[NROW(i:n+1),i])\n",
    "        temp=list(range(i,n+1))\n",
    "        for j in range(i,n+1):\n",
    "            temp[j-i]=A[NROW[j],i]/s[NROW[j]] \n",
    "        temp=np.array(temp)\n",
    "        temporary=max(abs(temp))\n",
    "        p=list(abs(temp)).index(temporary)+i\n",
    "        if A[NROW[p],i]==0:\n",
    "            print('no unique solutions exists')\n",
    "            return\n",
    "        if NROW[i]!=NROW[p]:\n",
    "            NCOPY=NROW[i]\n",
    "            NROW[i]=NROW[p]\n",
    "            NROW[p]=NCOPY\n",
    "        for j in range(i+1,n+1):\n",
    "            temporary=A[NROW[j],i]/A[NROW[i],i]\n",
    "            A[NROW[j],:]=A[NROW[j],:]-temporary*A[NROW[i],:]\n",
    "    if A[NROW[n],n]==0:\n",
    "        print('no unique solution exists')\n",
    "        return\n",
    "    x[n]=A[NROW[n],n+1]/A[NROW[n],n]\n",
    "    currlist=list(range(1,n))\n",
    "    currlist.reverse()\n",
    "    for i in currlist:\n",
    "        temp=0\n",
    "        for j in range(i+1,n+1):\n",
    "            temp=temp+A[NROW[i],j]*x[j]\n",
    "        x[i]=(A[NROW[i],n+1]-temp)/A[NROW[i],i]\n",
    "    print('Result of GaussianScaledPartialPivoting method (6.2/10) is',(np.array(x[1:n+1])).T)\n",
    "    return (np.array(x[1:n+1])).T\n",
    "\n",
    "GaussianPartialPivoting(4,E)\n",
    "GaussianScaledPartialPivoting(4,E)"
   ]
  },
  {
   "cell_type": "markdown",
   "id": "dutch-hughes",
   "metadata": {},
   "source": [
    "Here's the table for the results:"
   ]
  },
  {
   "cell_type": "markdown",
   "id": "lined-auckland",
   "metadata": {},
   "source": [
    "|  Method  | Gaussian Method using three digit rounding (6.2/5e) | Gaussian Partial Pivoting Method (6.2/8)  | Gaussian Scaled Partial Pivoting Method (6.2/10)  | \n",
    "|  ----  | ----  | ----  |  ----  | \n",
    "| $x_1$ | 0.206  | 0.1768253 | 0.1768253 | \n",
    "| $x_2$  | 0.0154 |  0.01269269 | 0.01269269 | \n",
    "| $x_3$  | -0.0156  | -0.02065405 | -0.02065405 |\n",
    "| $x_4$  | -0.716  | -1.1826087 | -1.1826087 | "
   ]
  },
  {
   "cell_type": "markdown",
   "id": "national-reset",
   "metadata": {},
   "source": [
    "We see that the Gaussian Partial Pivoting Method (6.2/8) and the  Gaussian Scaled Partial Pivoting Method (6.2/10) output the correct values. While the usual Gaussian method using three digit rounding gives the wrong result since the roundoff error is too big."
   ]
  },
  {
   "cell_type": "markdown",
   "id": "saved-wallace",
   "metadata": {},
   "source": [
    "## 4 LU decomposition (6.5/3d)"
   ]
  },
  {
   "cell_type": "markdown",
   "id": "crazy-draft",
   "metadata": {},
   "source": [
    "We will apply LU decomposition algorithm ( for problem 6.5/3d ). We run the program as follows."
   ]
  },
  {
   "cell_type": "code",
   "execution_count": 160,
   "id": "athletic-square",
   "metadata": {},
   "outputs": [
    {
     "name": "stdout",
     "output_type": "stream",
     "text": [
      "L matrix of 6.5/3d is \n",
      " [[ 1.          0.          0.          0.        ]\n",
      " [-1.84919103  1.          0.          0.        ]\n",
      " [-0.45964332 -0.25012194  1.          0.        ]\n",
      " [ 2.76866152 -0.30794361 -5.35228302  1.        ]] \n",
      "U matrix of 6.5/3d is \n",
      " [[ 2.1756      4.0231     -2.1732      5.1967    ]\n",
      " [ 0.         13.43948042 -4.01866194 10.80699101]\n",
      " [ 0.          0.         -0.89295239  5.09169403]\n",
      " [ 0.          0.          0.         12.03612803]]\n"
     ]
    }
   ],
   "source": [
    "# LU decomposition\n",
    "import numpy as np\n",
    "def LU_Factorization(A):\n",
    "    n = A.shape[0]\n",
    "    L = np.zeros([n, n])\n",
    "    U = np.zeros([n, n])\n",
    "    for i in range(n):\n",
    "        L[i][i] = 1\n",
    "        if i == 0:\n",
    "            U[0][0] = A[0][0]\n",
    "            for j in range(1, n):\n",
    "                U[0][j] = A[0][j]\n",
    "                L[j][0] = A[j][0] / U[0][0]\n",
    "        else:\n",
    "            for j in range(i, n):\n",
    "                temp = 0\n",
    "                for k in range(0, i):\n",
    "                    temp = temp + L[i][k] * U[k][j]\n",
    "                U[i][j] = A[i][j] - temp\n",
    "            for j in range(i + 1, n):\n",
    "                temp = 0\n",
    "                for k in range(0, i):\n",
    "                    temp = temp + L[j][k] * U[k][i]\n",
    "                L[j][i] = (A[j][i] - temp) / U[i][i]\n",
    "    return L, U\n",
    "def main():\n",
    "    D = np.array([[2.1756, 4.0231, -2.1732, 5.1967], [-4.0231,6,0,1.1973], [-1,-5.2107,1.1111,0],[6.0235,7,0,-4.1561]])\n",
    "    L, U = LU_Factorization(D)\n",
    "    print('L matrix of 6.5/3d is \\n',L, '\\nU matrix of 6.5/3d is \\n', U)\n",
    "main()"
   ]
  },
  {
   "cell_type": "markdown",
   "id": "normal-monitor",
   "metadata": {},
   "source": [
    "We see that the LU decomposition algorithm ( for problem 6.5/3d ) outputs the correct values with an easy check as before."
   ]
  },
  {
   "cell_type": "markdown",
   "id": "swedish-trademark",
   "metadata": {},
   "source": [
    "## 5 LDL' and Choleski's decomposition (6.6/2d,3)"
   ]
  },
  {
   "cell_type": "markdown",
   "id": "deadly-specific",
   "metadata": {},
   "source": [
    "Finally, we are in a position to apply $LDL^{T}$ and $Choleski$'s decomposition to the questions 6.6/2d,3. We run the program as follows. "
   ]
  },
  {
   "cell_type": "code",
   "execution_count": 161,
   "id": "subjective-radius",
   "metadata": {
    "scrolled": true
   },
   "outputs": [
    {
     "name": "stdout",
     "output_type": "stream",
     "text": [
      "L of LDL' decomposition in 6.6/2d is\n",
      "[[ 1.          0.          0.          0.        ]\n",
      " [ 0.33333333  1.          0.          0.        ]\n",
      " [ 0.16666667  0.2         1.          0.        ]\n",
      " [-0.16666667  0.1        -0.24324324  1.        ]]\n",
      "D of LDL' decomposition in 6.6/2d is\n",
      "[[6.         0.         0.         0.        ]\n",
      " [0.         3.33333333 0.         0.        ]\n",
      " [0.         0.         3.7        0.        ]\n",
      " [0.         0.         0.         2.58108108]]\n",
      "L of Cholesky decomposition in 6.6/3 is\n",
      "[[ 2.44948974  0.          0.          0.        ]\n",
      " [ 0.81649658  1.82574186  0.          0.        ]\n",
      " [ 0.40824829  0.36514837  1.92353841  0.        ]\n",
      " [-0.40824829  0.18257419 -0.46788772  1.60657433]]\n"
     ]
    }
   ],
   "source": [
    "import numpy as np\n",
    "# LDLT decomposition\n",
    "def LDLT(amatrix):\n",
    "    if len(np.shape(amatrix)) != 2 or np.shape(amatrix)[0]!=np.shape(amatrix)[1]:\n",
    "        print(\"error shape\")\n",
    "        return \n",
    "    for i in range(np.shape(amatrix)[0]):\n",
    "        for j in range(np.shape(amatrix)[1]):\n",
    "            if amatrix[i][j] != amatrix[j][i]:\n",
    "                print(\"The input matrix should be symmetric\")\n",
    "                return \n",
    "        \n",
    "    n = np.shape(amatrix)[0] #dimension of matrix\n",
    "    l = np.eye(n)\n",
    "    d = np.zeros((n,n))\n",
    "    for k in range(n):\n",
    "        if k == 0:\n",
    "            d[k][k] = amatrix[k][k]\n",
    "            if d[k][k] == 0:\n",
    "                print('error matrix type with 0 sequential principal minor determinant')\n",
    "                return        \n",
    "            for m in range(n):\n",
    "                l[m][k] = amatrix[m][k]/d[k][k]\n",
    "        else:\n",
    "            temp_sum1 = 0\n",
    "            for m in range(k):\n",
    "                temp_sum1 += amatrix[k][m]*l[k][m]\n",
    "            d[k][k] = amatrix[k][k] - temp_sum1\n",
    "            for j in range(k+1,n):\n",
    "                temp_sum2 = 0\n",
    "                for m in range(k):\n",
    "                    temp_sum2 += amatrix[j][m]*l[k][m]\n",
    "                amatrix[j][k] = amatrix[j][k] - temp_sum2\n",
    "                l[j][k] = amatrix[j][k]/d[k][k]\n",
    "    print(\"L of LDL' decomposition in 6.6/2d is\")\n",
    "    print(l)\n",
    "    print(\"D of LDL' decomposition in 6.6/2d is\")\n",
    "    print(d)\n",
    "    return l,d\n",
    "\n",
    "# Cholesky Decomposition\n",
    "def Cholesky(matrix):\n",
    "    w = matrix.shape[0]\n",
    "    G = np.zeros((w,w))\n",
    "    for i in range(w):\n",
    "        G[i,i] = (matrix[i,i] - np.dot(G[i,:i],G[i,:i].T))**0.5\n",
    "        for j in range(i+1,w):\n",
    "            G[j,i] = (matrix[j,i] - np.dot(G[j,:i],G[i,:i].T))/G[i,i]\n",
    "    print(\"L of Cholesky decomposition in 6.6/3 is\")\n",
    "    print(G)\n",
    "    return G\n",
    "   \n",
    "# decomposition of 6.6/2d\n",
    "A=np.array([[6,2,1,-1],[2,4,1,0],[1,1,4,-1],[-1,0,-1,3]],dtype=float)\n",
    "L,D = LDLT(A)\n",
    "\n",
    "AA=np.array([[6,2,1,-1],[2,4,1,0],[1,1,4,-1],[-1,0,-1,3]],dtype=float)\n",
    "LL = Cholesky(AA)"
   ]
  },
  {
   "cell_type": "markdown",
   "id": "unlike-texture",
   "metadata": {},
   "source": [
    "Finally we see that the $LDL^{T}$ and $Choleski$'s decomposition algorithm output the correct values with an easy check."
   ]
  },
  {
   "cell_type": "markdown",
   "id": "light-airplane",
   "metadata": {},
   "source": [
    "We check as follows and find that the decomposition above gives exactly the correct result."
   ]
  },
  {
   "cell_type": "code",
   "execution_count": 176,
   "id": "million-steering",
   "metadata": {},
   "outputs": [
    {
     "data": {
      "text/plain": [
       "array([[-0.,  0.,  0.,  0.],\n",
       "       [ 0., -0., -0.,  0.],\n",
       "       [ 0., -0.,  0.,  0.],\n",
       "       [ 0.,  0.,  0.,  0.]])"
      ]
     },
     "execution_count": 176,
     "metadata": {},
     "output_type": "execute_result"
    }
   ],
   "source": [
    "np.matmul(np.matmul(L,D),L.T)-A\n",
    "np.matmul(LL,LL.T)-AA"
   ]
  },
  {
   "cell_type": "markdown",
   "id": "musical-converter",
   "metadata": {},
   "source": [
    "## 6 Appendix of Codes"
   ]
  },
  {
   "cell_type": "markdown",
   "id": "limiting-operator",
   "metadata": {},
   "source": [
    "### 6.1  Gaussian Elimination Method "
   ]
  },
  {
   "cell_type": "code",
   "execution_count": 148,
   "id": "posted-agency",
   "metadata": {},
   "outputs": [],
   "source": [
    "import numpy as np\n",
    "C_old=np.array([[1,1/2,1/3,1/4,1/6],[1/2,1/3,1/4,1/5,1/7],[1/3,1/4,1/5,1/6,1/8],[1/4,1/5,1/6,1/7,1/8]])\n",
    "D_old=np.array([[2,1,-1,1,-3,7],[1,0,2,-1,1,2],[1,-2,-1,1,-1,-5],[3,1,-4,0,5,6],[1,-1,-1,-1,1,3]])\n",
    "C=np.c_[np.random.randn(4,1),C_old]\n",
    "C=np.r_[np.random.randn(1,6),C]\n",
    "D=np.c_[np.random.randn(5,1),D_old]\n",
    "D=np.r_[np.random.randn(1,7),D]\n",
    "\n",
    "def Gaussian(n,A):\n",
    "    x=np.random.randn(n+1,1)\n",
    "    for i in range(1,n):\n",
    "        # find the smallest p\n",
    "        temp=list(A[i:n+1,i])\n",
    "        if temp==0:\n",
    "            print('no unique solution exists')\n",
    "            return\n",
    "        else:\n",
    "            temporary=min(filter(lambda x: x!=0, temp))\n",
    "            p=temp.index(temporary)+i\n",
    "            \n",
    "        if p!=i:\n",
    "            A[[p, i],:] = A[[i, p],:]\n",
    "        for j in range(i+1,n+1):\n",
    "            h=A[j,i]/A[i,i]\n",
    "            tempal=A[j,:]-h*A[i,:]\n",
    "            A[j,:]=tempal\n",
    "    if A[n,n]==0:\n",
    "        print('no unique solution exists')\n",
    "        return\n",
    "    x[n]=A[n,n+1]/A[n,n]\n",
    "    for i in range(1,n):\n",
    "        temp=0\n",
    "        for j in range(n-i+1,n+1):\n",
    "            temp=temp+A[n-i,j]*x[j]\n",
    "        x[n-i]=(A[n-i,n+1]-temp)/A[n-i,n-i]\n",
    "    return (x[1:n+1]).T"
   ]
  },
  {
   "cell_type": "markdown",
   "id": "facial-medline",
   "metadata": {},
   "source": [
    "### 6.2 Gaussian Partial Pivoting Method "
   ]
  },
  {
   "cell_type": "code",
   "execution_count": 152,
   "id": "secure-family",
   "metadata": {},
   "outputs": [],
   "source": [
    "import numpy as np\n",
    "import scipy\n",
    "E_old=np.array([[1.19,2.11,-100,1,1.12],[14.2,-0.122,12.2,-1,3.44],[0,100,-99.9,1,2.15],[15.3,0.11,-13.1,-1,4.16]])\n",
    "E=np.c_[np.random.randn(4,1),E_old]\n",
    "E=np.r_[np.random.randn(1,6),E]\n",
    "\n",
    "#numpy.set_printoptions(precision = 8,suppress = True)\n",
    "# Gaussian Elimination with Partial Pivoting\n",
    "def GaussianPartialPivoting(n,A):\n",
    "    NROW=list(range(0,n+1))\n",
    "    x=list(range(0,n+1))\n",
    "    for i in range(1,n+1):\n",
    "        NROW[i]=i\n",
    "    for i in range(1,n):\n",
    "        # actually to realize temp=list(A[NROW(i:n+1),i])\n",
    "        temp=list(range(i,n+1))\n",
    "        for j in range(i,n+1):\n",
    "            temp[j-i]=A[NROW[j],i]  \n",
    "        temp=np.array(temp)\n",
    "        temporary=max(abs(temp))\n",
    "        p=list(abs(temp)).index(temporary)+i\n",
    "        if A[NROW[p],i]==0:\n",
    "            print('no unique solutions exists')\n",
    "            return\n",
    "        if NROW[i]!=NROW[p]:\n",
    "            NCOPY=NROW[i]\n",
    "            NROW[i]=NROW[p]\n",
    "            NROW[p]=NCOPY\n",
    "        for j in range(i+1,n+1):\n",
    "            temporary=A[NROW[j],i]/A[NROW[i],i]\n",
    "            A[NROW[j],:]=A[NROW[j],:]-temporary*A[NROW[i],:]\n",
    "    if A[NROW[n],n]==0:\n",
    "        print('no unique solution exists')\n",
    "        return\n",
    "    x[n]=A[NROW[n],n+1]/A[NROW[n],n]\n",
    "    currlist=list(range(1,n))\n",
    "    currlist.reverse()\n",
    "    for i in currlist:\n",
    "        temp=0\n",
    "        for j in range(i+1,n+1):\n",
    "            temp=temp+A[NROW[i],j]*x[j]\n",
    "        x[i]=(A[NROW[i],n+1]-temp)/A[NROW[i],i]\n",
    "    print('Result of GaussianPartialPivoting method (6.2/8) is',(np.array(x[1:n+1])).T)\n",
    "    return (np.array(x[1:n+1])).T\n",
    "\n",
    "# Gaussian Elimination with Scaled Partial Pivoting\n",
    "def GaussianScaledPartialPivoting(n,A):\n",
    "    NROW=list(range(0,n+1))\n",
    "    x=list(range(0,n+1))\n",
    "    s=list(range(0,n+1))\n",
    "    for i in range(1,n+1):\n",
    "        s[i]=max(abs(A[i,:]))\n",
    "    if s==0:\n",
    "        print('no unique solutions exists')\n",
    "        return\n",
    "    for i in range(1,n+1):\n",
    "        NROW[i]=i\n",
    "    for i in range(1,n):\n",
    "        # actually to realize temp=list(A[NROW(i:n+1),i])\n",
    "        temp=list(range(i,n+1))\n",
    "        for j in range(i,n+1):\n",
    "            temp[j-i]=A[NROW[j],i]/s[NROW[j]] \n",
    "        temp=np.array(temp)\n",
    "        temporary=max(abs(temp))\n",
    "        p=list(abs(temp)).index(temporary)+i\n",
    "        if A[NROW[p],i]==0:\n",
    "            print('no unique solutions exists')\n",
    "            return\n",
    "        if NROW[i]!=NROW[p]:\n",
    "            NCOPY=NROW[i]\n",
    "            NROW[i]=NROW[p]\n",
    "            NROW[p]=NCOPY\n",
    "        for j in range(i+1,n+1):\n",
    "            temporary=A[NROW[j],i]/A[NROW[i],i]\n",
    "            A[NROW[j],:]=A[NROW[j],:]-temporary*A[NROW[i],:]\n",
    "    if A[NROW[n],n]==0:\n",
    "        print('no unique solution exists')\n",
    "        return\n",
    "    x[n]=A[NROW[n],n+1]/A[NROW[n],n]\n",
    "    currlist=list(range(1,n))\n",
    "    currlist.reverse()\n",
    "    for i in currlist:\n",
    "        temp=0\n",
    "        for j in range(i+1,n+1):\n",
    "            temp=temp+A[NROW[i],j]*x[j]\n",
    "        x[i]=(A[NROW[i],n+1]-temp)/A[NROW[i],i]\n",
    "    print('Result of GaussianScaledPartialPivoting method (6.2/10) is',(np.array(x[1:n+1])).T)\n",
    "    return (np.array(x[1:n+1])).T"
   ]
  },
  {
   "cell_type": "markdown",
   "id": "funky-integrity",
   "metadata": {},
   "source": [
    "### 6.3 LU decomposition"
   ]
  },
  {
   "cell_type": "code",
   "execution_count": 153,
   "id": "altered-statistics",
   "metadata": {},
   "outputs": [],
   "source": [
    "# LU decomposition\n",
    "import numpy as np\n",
    "def LU_Factorization(A):\n",
    "    n = A.shape[0]\n",
    "    L = np.zeros([n, n])\n",
    "    U = np.zeros([n, n])\n",
    "    for i in range(n):\n",
    "        L[i][i] = 1\n",
    "        if i == 0:\n",
    "            U[0][0] = A[0][0]\n",
    "            for j in range(1, n):\n",
    "                U[0][j] = A[0][j]\n",
    "                L[j][0] = A[j][0] / U[0][0]\n",
    "        else:\n",
    "            for j in range(i, n):\n",
    "                temp = 0\n",
    "                for k in range(0, i):\n",
    "                    temp = temp + L[i][k] * U[k][j]\n",
    "                U[i][j] = A[i][j] - temp\n",
    "            for j in range(i + 1, n):\n",
    "                temp = 0\n",
    "                for k in range(0, i):\n",
    "                    temp = temp + L[j][k] * U[k][i]\n",
    "                L[j][i] = (A[j][i] - temp) / U[i][i]\n",
    "    return L, U\n",
    "#def main():\n",
    "#    D = np.array([[2.1756, 4.0231, -2.1732, 5.1967], [-4.0231,6,0,1.1973], [-1,-5.2107,1.1111,0],[6.0235,7,0,-4.1561]])\n",
    "#    L, U = LU_Factorization(D)\n",
    "#    print('L matrix of 6.5/3d is \\n',L, '\\nU matrix of 6.5/3d is \\n', U)\n",
    "#main()"
   ]
  },
  {
   "cell_type": "markdown",
   "id": "continental-consensus",
   "metadata": {},
   "source": [
    "### 6.4 LDLT decomposition and Cholesky decomposition"
   ]
  },
  {
   "cell_type": "code",
   "execution_count": 178,
   "id": "smooth-portable",
   "metadata": {},
   "outputs": [],
   "source": [
    "import numpy as np\n",
    "# LDLT decomposition\n",
    "def LDLT(amatrix):\n",
    "    if len(np.shape(amatrix)) != 2 or np.shape(amatrix)[0]!=np.shape(amatrix)[1]:\n",
    "        print(\"error shape\")\n",
    "        return \n",
    "    for i in range(np.shape(amatrix)[0]):\n",
    "        for j in range(np.shape(amatrix)[1]):\n",
    "            if amatrix[i][j] != amatrix[j][i]:\n",
    "                print(\"The input matrix should be symmetric\")\n",
    "                return \n",
    "        \n",
    "    n = np.shape(amatrix)[0] #dimension of matrix\n",
    "    l = np.eye(n)\n",
    "    d = np.zeros((n,n))\n",
    "    for k in range(n):\n",
    "        if k == 0:\n",
    "            d[k][k] = amatrix[k][k]\n",
    "            if d[k][k] == 0:\n",
    "                print('error matrix type with 0 sequential principal minor determinant')\n",
    "                return        \n",
    "            for m in range(n):\n",
    "                l[m][k] = amatrix[m][k]/d[k][k]\n",
    "        else:\n",
    "            temp_sum1 = 0\n",
    "            for m in range(k):\n",
    "                temp_sum1 += amatrix[k][m]*l[k][m]\n",
    "            d[k][k] = amatrix[k][k] - temp_sum1\n",
    "            for j in range(k+1,n):\n",
    "                temp_sum2 = 0\n",
    "                for m in range(k):\n",
    "                    temp_sum2 += amatrix[j][m]*l[k][m]\n",
    "                amatrix[j][k] = amatrix[j][k] - temp_sum2\n",
    "                l[j][k] = amatrix[j][k]/d[k][k]\n",
    "    print(\"L of LDL' decomposition in 6.6/2d is\")\n",
    "    print(l)\n",
    "    print(\"D of LDL' decomposition in 6.6/2d is\")\n",
    "    print(d)\n",
    "    return l,d\n",
    "\n",
    "# Cholesky Decomposition\n",
    "def Cholesky(matrix):\n",
    "    w = matrix.shape[0]\n",
    "    G = np.zeros((w,w))\n",
    "    for i in range(w):\n",
    "        G[i,i] = (matrix[i,i] - np.dot(G[i,:i],G[i,:i].T))**0.5\n",
    "        for j in range(i+1,w):\n",
    "            G[j,i] = (matrix[j,i] - np.dot(G[j,:i],G[i,:i].T))/G[i,i]\n",
    "    print(\"L of Cholesky decomposition in 6.6/3 is\")\n",
    "    print(G)\n",
    "    return G\n",
    "\n",
    "# decomposition of 6.6/2d\n",
    "#A=np.array([[6,2,1,-1],[2,4,1,0],[1,1,4,-1],[-1,0,-1,3]],dtype=float)\n",
    "#L,D = LDLT(A)\n",
    "\n",
    "#AA=np.array([[6,2,1,-1],[2,4,1,0],[1,1,4,-1],[-1,0,-1,3]],dtype=float)\n",
    "#LL = Cholesky(AA)"
   ]
  },
  {
   "cell_type": "code",
   "execution_count": null,
   "id": "oriental-hometown",
   "metadata": {},
   "outputs": [],
   "source": []
  }
 ],
 "metadata": {
  "kernelspec": {
   "display_name": "Python 3",
   "language": "python",
   "name": "python3"
  },
  "language_info": {
   "codemirror_mode": {
    "name": "ipython",
    "version": 3
   },
   "file_extension": ".py",
   "mimetype": "text/x-python",
   "name": "python",
   "nbconvert_exporter": "python",
   "pygments_lexer": "ipython3",
   "version": "3.9.2"
  }
 },
 "nbformat": 4,
 "nbformat_minor": 5
}
